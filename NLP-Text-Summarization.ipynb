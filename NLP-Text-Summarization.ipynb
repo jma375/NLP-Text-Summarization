{
 "cells": [
  {
   "cell_type": "code",
   "execution_count": 1,
   "metadata": {},
   "outputs": [],
   "source": [
    "#James Alfano\n",
    "import pandas as pd\n",
    "import datasets\n",
    "import sys  \n",
    "import contractions\n",
    "import matplotlib.pyplot as plt\n",
    "import nltk\n",
    "from nltk.corpus import stopwords\n",
    "from nltk.tokenize import word_tokenize, sent_tokenize\n",
    "from nltk.stem import WordNetLemmatizer\n",
    "\n",
    "#Run these commands when running for first time\n",
    "#nltk.download('punkt')\n",
    "#nltk.download('stopwords')\n",
    "#nltk.download('wordnet') \n",
    "#!{sys.executable} -m pip install contractions"
   ]
  },
  {
   "cell_type": "code",
   "execution_count": 2,
   "metadata": {},
   "outputs": [
    {
     "name": "stderr",
     "output_type": "stream",
     "text": [
      "Found cached dataset cnn_dailymail (/Users/jamesalfano/.cache/huggingface/datasets/cnn_dailymail/3.0.0/3.0.0/1b3c71476f6d152c31c1730e83ccb08bcf23e348233f4fcc11e182248e6bf7de)\n",
      "100%|██████████| 3/3 [00:00<00:00, 38.86it/s]\n"
     ]
    }
   ],
   "source": [
    "## load the full dataset of 300k articles\n",
    "dataset = datasets.load_dataset(\"cnn_dailymail\", '3.0.0')"
   ]
  },
  {
   "cell_type": "code",
   "execution_count": 3,
   "metadata": {},
   "outputs": [
    {
     "data": {
      "text/plain": [
       "DatasetDict({\n",
       "    train: Dataset({\n",
       "        features: ['article', 'highlights', 'id'],\n",
       "        num_rows: 287113\n",
       "    })\n",
       "    validation: Dataset({\n",
       "        features: ['article', 'highlights', 'id'],\n",
       "        num_rows: 13368\n",
       "    })\n",
       "    test: Dataset({\n",
       "        features: ['article', 'highlights', 'id'],\n",
       "        num_rows: 11490\n",
       "    })\n",
       "})"
      ]
     },
     "execution_count": 3,
     "metadata": {},
     "output_type": "execute_result"
    }
   ],
   "source": [
    "dataset"
   ]
  },
  {
   "cell_type": "code",
   "execution_count": 4,
   "metadata": {},
   "outputs": [
    {
     "data": {
      "text/html": [
       "<div>\n",
       "<style scoped>\n",
       "    .dataframe tbody tr th:only-of-type {\n",
       "        vertical-align: middle;\n",
       "    }\n",
       "\n",
       "    .dataframe tbody tr th {\n",
       "        vertical-align: top;\n",
       "    }\n",
       "\n",
       "    .dataframe thead th {\n",
       "        text-align: right;\n",
       "    }\n",
       "</style>\n",
       "<table border=\"1\" class=\"dataframe\">\n",
       "  <thead>\n",
       "    <tr style=\"text-align: right;\">\n",
       "      <th></th>\n",
       "      <th>text</th>\n",
       "      <th>y</th>\n",
       "    </tr>\n",
       "  </thead>\n",
       "  <tbody>\n",
       "    <tr>\n",
       "      <th>0</th>\n",
       "      <td>LONDON, England (Reuters) -- Harry Potter star...</td>\n",
       "      <td>Harry Potter star Daniel Radcliffe gets £20M f...</td>\n",
       "    </tr>\n",
       "    <tr>\n",
       "      <th>1</th>\n",
       "      <td>Editor's note: In our Behind the Scenes series...</td>\n",
       "      <td>Mentally ill inmates in Miami are housed on th...</td>\n",
       "    </tr>\n",
       "    <tr>\n",
       "      <th>2</th>\n",
       "      <td>MINNEAPOLIS, Minnesota (CNN) -- Drivers who we...</td>\n",
       "      <td>NEW: \"I thought I was going to die,\" driver sa...</td>\n",
       "    </tr>\n",
       "    <tr>\n",
       "      <th>3</th>\n",
       "      <td>WASHINGTON (CNN) -- Doctors removed five small...</td>\n",
       "      <td>Five small polyps found during procedure; \"non...</td>\n",
       "    </tr>\n",
       "    <tr>\n",
       "      <th>4</th>\n",
       "      <td>(CNN)  -- The National Football League has ind...</td>\n",
       "      <td>NEW: NFL chief, Atlanta Falcons owner critical...</td>\n",
       "    </tr>\n",
       "  </tbody>\n",
       "</table>\n",
       "</div>"
      ],
      "text/plain": [
       "                                                text  \\\n",
       "0  LONDON, England (Reuters) -- Harry Potter star...   \n",
       "1  Editor's note: In our Behind the Scenes series...   \n",
       "2  MINNEAPOLIS, Minnesota (CNN) -- Drivers who we...   \n",
       "3  WASHINGTON (CNN) -- Doctors removed five small...   \n",
       "4  (CNN)  -- The National Football League has ind...   \n",
       "\n",
       "                                                   y  \n",
       "0  Harry Potter star Daniel Radcliffe gets £20M f...  \n",
       "1  Mentally ill inmates in Miami are housed on th...  \n",
       "2  NEW: \"I thought I was going to die,\" driver sa...  \n",
       "3  Five small polyps found during procedure; \"non...  \n",
       "4  NEW: NFL chief, Atlanta Falcons owner critical...  "
      ]
     },
     "execution_count": 4,
     "metadata": {},
     "output_type": "execute_result"
    }
   ],
   "source": [
    "#Read in Training\n",
    "lst_dics = [dic for dic in dataset[\"train\"]]\n",
    "train = pd.DataFrame(lst_dics).rename(columns={\"article\":\"text\", \n",
    "      \"highlights\":\"y\"})[[\"text\",\"y\"]]\n",
    "train.head(5)"
   ]
  },
  {
   "cell_type": "code",
   "execution_count": 5,
   "metadata": {},
   "outputs": [
    {
     "data": {
      "text/html": [
       "<div>\n",
       "<style scoped>\n",
       "    .dataframe tbody tr th:only-of-type {\n",
       "        vertical-align: middle;\n",
       "    }\n",
       "\n",
       "    .dataframe tbody tr th {\n",
       "        vertical-align: top;\n",
       "    }\n",
       "\n",
       "    .dataframe thead th {\n",
       "        text-align: right;\n",
       "    }\n",
       "</style>\n",
       "<table border=\"1\" class=\"dataframe\">\n",
       "  <thead>\n",
       "    <tr style=\"text-align: right;\">\n",
       "      <th></th>\n",
       "      <th>text</th>\n",
       "      <th>y</th>\n",
       "    </tr>\n",
       "  </thead>\n",
       "  <tbody>\n",
       "    <tr>\n",
       "      <th>0</th>\n",
       "      <td>(CNN)The Palestinian Authority officially beca...</td>\n",
       "      <td>Membership gives the ICC jurisdiction over all...</td>\n",
       "    </tr>\n",
       "    <tr>\n",
       "      <th>1</th>\n",
       "      <td>(CNN)Never mind cats having nine lives. A stra...</td>\n",
       "      <td>Theia, a bully breed mix, was apparently hit b...</td>\n",
       "    </tr>\n",
       "    <tr>\n",
       "      <th>2</th>\n",
       "      <td>(CNN)If you've been following the news lately,...</td>\n",
       "      <td>Mohammad Javad Zarif has spent more time with ...</td>\n",
       "    </tr>\n",
       "    <tr>\n",
       "      <th>3</th>\n",
       "      <td>(CNN)Five Americans who were monitored for thr...</td>\n",
       "      <td>17 Americans were exposed to the Ebola virus w...</td>\n",
       "    </tr>\n",
       "    <tr>\n",
       "      <th>4</th>\n",
       "      <td>(CNN)A Duke student has admitted to hanging a ...</td>\n",
       "      <td>Student is no longer on Duke University campus...</td>\n",
       "    </tr>\n",
       "  </tbody>\n",
       "</table>\n",
       "</div>"
      ],
      "text/plain": [
       "                                                text  \\\n",
       "0  (CNN)The Palestinian Authority officially beca...   \n",
       "1  (CNN)Never mind cats having nine lives. A stra...   \n",
       "2  (CNN)If you've been following the news lately,...   \n",
       "3  (CNN)Five Americans who were monitored for thr...   \n",
       "4  (CNN)A Duke student has admitted to hanging a ...   \n",
       "\n",
       "                                                   y  \n",
       "0  Membership gives the ICC jurisdiction over all...  \n",
       "1  Theia, a bully breed mix, was apparently hit b...  \n",
       "2  Mohammad Javad Zarif has spent more time with ...  \n",
       "3  17 Americans were exposed to the Ebola virus w...  \n",
       "4  Student is no longer on Duke University campus...  "
      ]
     },
     "execution_count": 5,
     "metadata": {},
     "output_type": "execute_result"
    }
   ],
   "source": [
    "#Read in testing\n",
    "lst_dics = [dic for dic in dataset[\"test\"]]\n",
    "test = pd.DataFrame(lst_dics).rename(columns={\"article\":\"text\", \n",
    "      \"highlights\":\"y\"})[[\"text\",\"y\"]]\n",
    "test.head()"
   ]
  },
  {
   "cell_type": "code",
   "execution_count": 6,
   "metadata": {},
   "outputs": [
    {
     "data": {
      "text/html": [
       "<div>\n",
       "<style scoped>\n",
       "    .dataframe tbody tr th:only-of-type {\n",
       "        vertical-align: middle;\n",
       "    }\n",
       "\n",
       "    .dataframe tbody tr th {\n",
       "        vertical-align: top;\n",
       "    }\n",
       "\n",
       "    .dataframe thead th {\n",
       "        text-align: right;\n",
       "    }\n",
       "</style>\n",
       "<table border=\"1\" class=\"dataframe\">\n",
       "  <thead>\n",
       "    <tr style=\"text-align: right;\">\n",
       "      <th></th>\n",
       "      <th>text</th>\n",
       "      <th>y</th>\n",
       "    </tr>\n",
       "  </thead>\n",
       "  <tbody>\n",
       "    <tr>\n",
       "      <th>0</th>\n",
       "      <td>(CNN)Share, and your gift will be multiplied. ...</td>\n",
       "      <td>Zully Broussard decided to give a kidney to a ...</td>\n",
       "    </tr>\n",
       "    <tr>\n",
       "      <th>1</th>\n",
       "      <td>(CNN)On the 6th of April 1996, San Jose Clash ...</td>\n",
       "      <td>The 20th MLS season begins this weekend .\\nLea...</td>\n",
       "    </tr>\n",
       "    <tr>\n",
       "      <th>2</th>\n",
       "      <td>(CNN)French striker Bafetimbi Gomis, who has a...</td>\n",
       "      <td>Bafetimbi Gomis collapses within 10 minutes of...</td>\n",
       "    </tr>\n",
       "    <tr>\n",
       "      <th>3</th>\n",
       "      <td>(CNN)It was an act of frustration perhaps more...</td>\n",
       "      <td>Rory McIlroy throws club into water at WGC Cad...</td>\n",
       "    </tr>\n",
       "    <tr>\n",
       "      <th>4</th>\n",
       "      <td>(CNN)A Pennsylvania community is pulling toget...</td>\n",
       "      <td>Cayman Naib, 13, hasn't been heard from since ...</td>\n",
       "    </tr>\n",
       "  </tbody>\n",
       "</table>\n",
       "</div>"
      ],
      "text/plain": [
       "                                                text  \\\n",
       "0  (CNN)Share, and your gift will be multiplied. ...   \n",
       "1  (CNN)On the 6th of April 1996, San Jose Clash ...   \n",
       "2  (CNN)French striker Bafetimbi Gomis, who has a...   \n",
       "3  (CNN)It was an act of frustration perhaps more...   \n",
       "4  (CNN)A Pennsylvania community is pulling toget...   \n",
       "\n",
       "                                                   y  \n",
       "0  Zully Broussard decided to give a kidney to a ...  \n",
       "1  The 20th MLS season begins this weekend .\\nLea...  \n",
       "2  Bafetimbi Gomis collapses within 10 minutes of...  \n",
       "3  Rory McIlroy throws club into water at WGC Cad...  \n",
       "4  Cayman Naib, 13, hasn't been heard from since ...  "
      ]
     },
     "execution_count": 6,
     "metadata": {},
     "output_type": "execute_result"
    }
   ],
   "source": [
    "#Read in Validation\n",
    "lst_dics = [dic for dic in dataset[\"validation\"]]\n",
    "validation = pd.DataFrame(lst_dics).rename(columns={\"article\":\"text\", \n",
    "      \"highlights\":\"y\"})[[\"text\",\"y\"]]\n",
    "validation.head()"
   ]
  },
  {
   "cell_type": "code",
   "execution_count": 7,
   "metadata": {},
   "outputs": [
    {
     "name": "stdout",
     "output_type": "stream",
     "text": [
      "(287113, 2)\n",
      "(11490, 2)\n",
      "(13368, 2)\n"
     ]
    }
   ],
   "source": [
    "print(train.shape)\n",
    "print(test.shape)\n",
    "print(validation.shape)\n"
   ]
  },
  {
   "cell_type": "code",
   "execution_count": 8,
   "metadata": {},
   "outputs": [
    {
     "name": "stdout",
     "output_type": "stream",
     "text": [
      "LONDON, England (Reuters) -- Harry Potter star Daniel Radcliffe gains access to a reported £20 million ($41.1 million) fortune as he turns 18 on Monday, but he insists the money won't cast a spell on him. Daniel Radcliffe as Harry Potter in \"Harry Potter and the Order of the Phoenix\" To the disappointment of gossip columnists around the world, the young actor says he has no plans to fritter his cash away on fast cars, drink and celebrity parties. \"I don't plan to be one of those people who, as soon as they turn 18, suddenly buy themselves a massive sports car collection or something similar,\" he told an Australian interviewer earlier this month. \"I don't think I'll be particularly extravagant. \"The things I like buying are things that cost about 10 pounds -- books and CDs and DVDs.\" At 18, Radcliffe will be able to gamble in a casino, buy a drink in a pub or see the horror film \"Hostel: Part II,\" currently six places below his number one movie on the UK box office chart. Details of how he'll mark his landmark birthday are under wraps. His agent and publicist had no comment on his plans. \"I'll definitely have some sort of party,\" he said in an interview. \"Hopefully none of you will be reading about it.\" Radcliffe's earnings from the first five Potter films have been held in a trust fund which he has not been able to touch. Despite his growing fame and riches, the actor says he is keeping his feet firmly on the ground. \"People are always looking to say 'kid star goes off the rails,'\" he told reporters last month. \"But I try very hard not to go that way because it would be too easy for them.\" His latest outing as the boy wizard in \"Harry Potter and the Order of the Phoenix\" is breaking records on both sides of the Atlantic and he will reprise the role in the last two films.  Watch I-Reporter give her review of Potter's latest » . There is life beyond Potter, however. The Londoner has filmed a TV movie called \"My Boy Jack,\" about author Rudyard Kipling and his son, due for release later this year. He will also appear in \"December Boys,\" an Australian film about four boys who escape an orphanage. Earlier this year, he made his stage debut playing a tortured teenager in Peter Shaffer's \"Equus.\" Meanwhile, he is braced for even closer media scrutiny now that he's legally an adult: \"I just think I'm going to be more sort of fair game,\" he told Reuters. E-mail to a friend . Copyright 2007 Reuters. All rights reserved.This material may not be published, broadcast, rewritten, or redistributed.\n"
     ]
    }
   ],
   "source": [
    "print(train.iloc[0,0])"
   ]
  },
  {
   "cell_type": "code",
   "execution_count": 9,
   "metadata": {},
   "outputs": [
    {
     "name": "stdout",
     "output_type": "stream",
     "text": [
      "Harry Potter star Daniel Radcliffe gets £20M fortune as he turns 18 Monday .\n",
      "Young actor says he has no plans to fritter his cash away .\n",
      "Radcliffe's earnings from first five Potter films have been held in trust fund .\n"
     ]
    }
   ],
   "source": [
    "print(train.iloc[0,1])"
   ]
  },
  {
   "cell_type": "markdown",
   "metadata": {},
   "source": [
    "## Preprocessing "
   ]
  },
  {
   "cell_type": "code",
   "execution_count": 10,
   "metadata": {},
   "outputs": [
    {
     "data": {
      "text/html": [
       "<div>\n",
       "<style scoped>\n",
       "    .dataframe tbody tr th:only-of-type {\n",
       "        vertical-align: middle;\n",
       "    }\n",
       "\n",
       "    .dataframe tbody tr th {\n",
       "        vertical-align: top;\n",
       "    }\n",
       "\n",
       "    .dataframe thead th {\n",
       "        text-align: right;\n",
       "    }\n",
       "</style>\n",
       "<table border=\"1\" class=\"dataframe\">\n",
       "  <thead>\n",
       "    <tr style=\"text-align: right;\">\n",
       "      <th></th>\n",
       "      <th>text</th>\n",
       "      <th>y</th>\n",
       "    </tr>\n",
       "  </thead>\n",
       "  <tbody>\n",
       "    <tr>\n",
       "      <th>0</th>\n",
       "      <td>LONDON, England (Reuters) -- Harry Potter star...</td>\n",
       "      <td>Harry Potter star Daniel Radcliffe gets £20M f...</td>\n",
       "    </tr>\n",
       "    <tr>\n",
       "      <th>1</th>\n",
       "      <td>Editor's note: In our Behind the Scenes series...</td>\n",
       "      <td>Mentally ill inmates in Miami are housed on th...</td>\n",
       "    </tr>\n",
       "    <tr>\n",
       "      <th>2</th>\n",
       "      <td>MINNEAPOLIS, Minnesota (CNN) -- Drivers who we...</td>\n",
       "      <td>NEW: \"I thought I was going to die,\" driver sa...</td>\n",
       "    </tr>\n",
       "    <tr>\n",
       "      <th>3</th>\n",
       "      <td>WASHINGTON (CNN) -- Doctors removed five small...</td>\n",
       "      <td>Five small polyps found during procedure; \"non...</td>\n",
       "    </tr>\n",
       "    <tr>\n",
       "      <th>4</th>\n",
       "      <td>(CNN)  -- The National Football League has ind...</td>\n",
       "      <td>NEW: NFL chief, Atlanta Falcons owner critical...</td>\n",
       "    </tr>\n",
       "  </tbody>\n",
       "</table>\n",
       "</div>"
      ],
      "text/plain": [
       "                                                text  \\\n",
       "0  LONDON, England (Reuters) -- Harry Potter star...   \n",
       "1  Editor's note: In our Behind the Scenes series...   \n",
       "2  MINNEAPOLIS, Minnesota (CNN) -- Drivers who we...   \n",
       "3  WASHINGTON (CNN) -- Doctors removed five small...   \n",
       "4  (CNN)  -- The National Football League has ind...   \n",
       "\n",
       "                                                   y  \n",
       "0  Harry Potter star Daniel Radcliffe gets £20M f...  \n",
       "1  Mentally ill inmates in Miami are housed on th...  \n",
       "2  NEW: \"I thought I was going to die,\" driver sa...  \n",
       "3  Five small polyps found during procedure; \"non...  \n",
       "4  NEW: NFL chief, Atlanta Falcons owner critical...  "
      ]
     },
     "execution_count": 10,
     "metadata": {},
     "output_type": "execute_result"
    }
   ],
   "source": [
    "#take a subset of the training data\n",
    "subset = train.iloc[0:50,0:50]\n",
    "subset.shape\n",
    "subset.head()"
   ]
  },
  {
   "cell_type": "code",
   "execution_count": 11,
   "metadata": {},
   "outputs": [],
   "source": [
    "#Function to plot word frequencies \n",
    "def wrd_freq_plot(df,title):\n",
    "    # use explode to expand the lists into separate rows\n",
    "    dfe = df.text.explode().to_frame().reset_index(drop=True)\n",
    "    # groupby the values in the column, get the count and sort\n",
    "    dfg = dfe.groupby('text').text.count() \\\n",
    "                                .reset_index(name='count') \\\n",
    "                                .sort_values(['count'], ascending=False) \\\n",
    "                                .head(25).reset_index(drop=True)\n",
    "    dfg.plot.bar(x='text')\n",
    "    plt.title(title)"
   ]
  },
  {
   "cell_type": "code",
   "execution_count": 12,
   "metadata": {},
   "outputs": [],
   "source": [
    "#Each article begins with a location, source, and --\n",
    "#e.g. \"MINNEAPOLIS, Minnesota (CNN) --\" or \"WASHINGTON (CNN) --\"\n",
    "#This function seeks to remove the intro\n",
    "def rvm_article_intro(df):\n",
    "    for i in range(len(df)):\n",
    "        df.iloc[i,0] = df.iloc[i,0][df.iloc[i,0].find('-')+3:] #+3 to remove the \"-- \" "
   ]
  },
  {
   "cell_type": "code",
   "execution_count": 13,
   "metadata": {},
   "outputs": [],
   "source": [
    "#Expand contractions \n",
    "#e.g. they're -> they are\n",
    "def expand_contractions(df):\n",
    "    for i in range(len(df)):\n",
    "        df.iloc[i,0] = contractions.fix(df.iloc[i,0])\n",
    "        df.iloc[i,1] = contractions.fix(df.iloc[i,1])"
   ]
  },
  {
   "cell_type": "code",
   "execution_count": 14,
   "metadata": {},
   "outputs": [],
   "source": [
    "#Lower Case Function\n",
    "def lower_case_text(df):\n",
    "    df[\"text\"] = df[\"text\"].str.lower()\n",
    "    df[\"y\"] = df[\"y\"].str.lower()"
   ]
  },
  {
   "cell_type": "code",
   "execution_count": 15,
   "metadata": {},
   "outputs": [],
   "source": [
    "#Function to tokenize df \n",
    "def token(df):\n",
    "    for i in range(len(df)):\n",
    "        df.iloc[i,0] = nltk.word_tokenize(df.iloc[i,0])\n",
    "        df.iloc[i,1] = nltk.word_tokenize(df.iloc[i,1])"
   ]
  },
  {
   "cell_type": "code",
   "execution_count": 16,
   "metadata": {},
   "outputs": [],
   "source": [
    "#Removing stop words/punctuation\n",
    "#e.g. 'a', 'an', 'not', 'do', 'over', 'themselves', \"--\", \"''\", \":\", and \".\"\n",
    "def rmv_stop_wrds(df):\n",
    "    stop_words = set(stopwords.words('english'))\n",
    "    char_rmv = [\"'\",\",\",\"``\",\"`\",\"-\", \"--\",\"''\",\":\",\".\",\"'s\",\"said\",\"$\",\"(\",\")\"]\n",
    "    stop_words.update(char_rmv) #Adding extra stopwords\n",
    "    for i in range(len(df)):\n",
    "        df.iloc[i,0] = [w for w in df.iloc[i,0] if not w in stop_words] \n",
    "        df.iloc[i,1] = [w for w in df.iloc[i,1] if not w in stop_words] "
   ]
  },
  {
   "cell_type": "code",
   "execution_count": 17,
   "metadata": {},
   "outputs": [],
   "source": [
    "#Function to lemmatize \n",
    "#i.e. transform the word to its root\n",
    "def lemmatize_wrds(df):\n",
    "    wnl = WordNetLemmatizer()\n",
    "    for i in range(len(df)):\n",
    "        df.iloc[i,0] = [wnl.lemmatize(w) for w in df.iloc[i,0]] \n",
    "        df.iloc[i,1] = [wnl.lemmatize(w) for w in df.iloc[i,1]] \n",
    "    "
   ]
  },
  {
   "cell_type": "code",
   "execution_count": 18,
   "metadata": {},
   "outputs": [
    {
     "data": {
      "image/png": "[encoded data removed]",
      "text/plain": [
       "<Figure size 432x288 with 1 Axes>"
      ]
     },
     "metadata": {
      "needs_background": "light"
     },
     "output_type": "display_data"
    }
   ],
   "source": [
    "#Plot word Freq before removing stopwords \n",
    "expand_contractions(subset)\n",
    "lower_case_text(subset)\n",
    "rvm_article_intro(subset)\n",
    "token(subset)\n",
    "wrd_freq_plot(subset,\"Frequency of Words Before Removing Stopwords\")"
   ]
  },
  {
   "cell_type": "code",
   "execution_count": 19,
   "metadata": {},
   "outputs": [
    {
     "data": {
      "text/html": [
       "<div>\n",
       "<style scoped>\n",
       "    .dataframe tbody tr th:only-of-type {\n",
       "        vertical-align: middle;\n",
       "    }\n",
       "\n",
       "    .dataframe tbody tr th {\n",
       "        vertical-align: top;\n",
       "    }\n",
       "\n",
       "    .dataframe thead th {\n",
       "        text-align: right;\n",
       "    }\n",
       "</style>\n",
       "<table border=\"1\" class=\"dataframe\">\n",
       "  <thead>\n",
       "    <tr style=\"text-align: right;\">\n",
       "      <th></th>\n",
       "      <th>text</th>\n",
       "      <th>y</th>\n",
       "    </tr>\n",
       "  </thead>\n",
       "  <tbody>\n",
       "    <tr>\n",
       "      <th>0</th>\n",
       "      <td>[harry, potter, star, daniel, radcliffe, gains...</td>\n",
       "      <td>[harry, potter, star, daniel, radcliffe, gets,...</td>\n",
       "    </tr>\n",
       "    <tr>\n",
       "      <th>1</th>\n",
       "      <td>[the, ninth, floor, of, the, miami-dade, pretr...</td>\n",
       "      <td>[mentally, ill, inmates, in, miami, are, house...</td>\n",
       "    </tr>\n",
       "    <tr>\n",
       "      <th>2</th>\n",
       "      <td>[drivers, who, were, on, the, minneapolis, bri...</td>\n",
       "      <td>[new, :, ``, i, thought, i, was, going, to, di...</td>\n",
       "    </tr>\n",
       "    <tr>\n",
       "      <th>3</th>\n",
       "      <td>[doctors, removed, five, small, polyps, from, ...</td>\n",
       "      <td>[five, small, polyps, found, during, procedure...</td>\n",
       "    </tr>\n",
       "    <tr>\n",
       "      <th>4</th>\n",
       "      <td>[the, national, football, league, has, indefin...</td>\n",
       "      <td>[new, :, nfl, chief, ,, atlanta, falcons, owne...</td>\n",
       "    </tr>\n",
       "  </tbody>\n",
       "</table>\n",
       "</div>"
      ],
      "text/plain": [
       "                                                text  \\\n",
       "0  [harry, potter, star, daniel, radcliffe, gains...   \n",
       "1  [the, ninth, floor, of, the, miami-dade, pretr...   \n",
       "2  [drivers, who, were, on, the, minneapolis, bri...   \n",
       "3  [doctors, removed, five, small, polyps, from, ...   \n",
       "4  [the, national, football, league, has, indefin...   \n",
       "\n",
       "                                                   y  \n",
       "0  [harry, potter, star, daniel, radcliffe, gets,...  \n",
       "1  [mentally, ill, inmates, in, miami, are, house...  \n",
       "2  [new, :, ``, i, thought, i, was, going, to, di...  \n",
       "3  [five, small, polyps, found, during, procedure...  \n",
       "4  [new, :, nfl, chief, ,, atlanta, falcons, owne...  "
      ]
     },
     "execution_count": 19,
     "metadata": {},
     "output_type": "execute_result"
    }
   ],
   "source": [
    "subset.head()"
   ]
  },
  {
   "cell_type": "code",
   "execution_count": 20,
   "metadata": {},
   "outputs": [],
   "source": [
    "before = subset.iloc[0,0]"
   ]
  },
  {
   "cell_type": "code",
   "execution_count": 21,
   "metadata": {},
   "outputs": [
    {
     "data": {
      "image/png": "[encoded data removed]",
      "text/plain": [
       "<Figure size 432x288 with 1 Axes>"
      ]
     },
     "metadata": {
      "needs_background": "light"
     },
     "output_type": "display_data"
    }
   ],
   "source": [
    "#Plot word Frequency of words after removing stopwords and Performing Lemmatization\n",
    "rmv_stop_wrds(subset)\n",
    "lemmatize_wrds(subset)\n",
    "wrd_freq_plot(subset,\"Frequency of Words After Removing Stopwords and Performing Lemmatization\")"
   ]
  },
  {
   "cell_type": "code",
   "execution_count": 22,
   "metadata": {},
   "outputs": [
    {
     "data": {
      "text/html": [
       "<div>\n",
       "<style scoped>\n",
       "    .dataframe tbody tr th:only-of-type {\n",
       "        vertical-align: middle;\n",
       "    }\n",
       "\n",
       "    .dataframe tbody tr th {\n",
       "        vertical-align: top;\n",
       "    }\n",
       "\n",
       "    .dataframe thead th {\n",
       "        text-align: right;\n",
       "    }\n",
       "</style>\n",
       "<table border=\"1\" class=\"dataframe\">\n",
       "  <thead>\n",
       "    <tr style=\"text-align: right;\">\n",
       "      <th></th>\n",
       "      <th>text</th>\n",
       "      <th>y</th>\n",
       "    </tr>\n",
       "  </thead>\n",
       "  <tbody>\n",
       "    <tr>\n",
       "      <th>0</th>\n",
       "      <td>[harry, potter, star, daniel, radcliffe, gain,...</td>\n",
       "      <td>[harry, potter, star, daniel, radcliffe, get, ...</td>\n",
       "    </tr>\n",
       "    <tr>\n",
       "      <th>1</th>\n",
       "      <td>[ninth, floor, miami-dade, pretrial, detention...</td>\n",
       "      <td>[mentally, ill, inmate, miami, housed, forgott...</td>\n",
       "    </tr>\n",
       "    <tr>\n",
       "      <th>2</th>\n",
       "      <td>[driver, minneapolis, bridge, collapsed, told,...</td>\n",
       "      <td>[new, thought, going, die, driver, say, man, s...</td>\n",
       "    </tr>\n",
       "    <tr>\n",
       "      <th>3</th>\n",
       "      <td>[doctor, removed, five, small, polyp, presiden...</td>\n",
       "      <td>[five, small, polyp, found, procedure, ;, none...</td>\n",
       "    </tr>\n",
       "    <tr>\n",
       "      <th>4</th>\n",
       "      <td>[national, football, league, indefinitely, sus...</td>\n",
       "      <td>[new, nfl, chief, atlanta, falcon, owner, crit...</td>\n",
       "    </tr>\n",
       "  </tbody>\n",
       "</table>\n",
       "</div>"
      ],
      "text/plain": [
       "                                                text  \\\n",
       "0  [harry, potter, star, daniel, radcliffe, gain,...   \n",
       "1  [ninth, floor, miami-dade, pretrial, detention...   \n",
       "2  [driver, minneapolis, bridge, collapsed, told,...   \n",
       "3  [doctor, removed, five, small, polyp, presiden...   \n",
       "4  [national, football, league, indefinitely, sus...   \n",
       "\n",
       "                                                   y  \n",
       "0  [harry, potter, star, daniel, radcliffe, get, ...  \n",
       "1  [mentally, ill, inmate, miami, housed, forgott...  \n",
       "2  [new, thought, going, die, driver, say, man, s...  \n",
       "3  [five, small, polyp, found, procedure, ;, none...  \n",
       "4  [new, nfl, chief, atlanta, falcon, owner, crit...  "
      ]
     },
     "execution_count": 22,
     "metadata": {},
     "output_type": "execute_result"
    }
   ],
   "source": [
    "subset.head()"
   ]
  },
  {
   "cell_type": "code",
   "execution_count": 23,
   "metadata": {},
   "outputs": [
    {
     "name": "stdout",
     "output_type": "stream",
     "text": [
      "['harry', 'potter', 'star', 'daniel', 'radcliffe', 'get', '£20m', 'fortune', 'turn', '18', 'monday', 'young', 'actor', 'say', 'plan', 'fritter', 'cash', 'away', 'radcliffe', 'earnings', 'first', 'five', 'potter', 'film', 'held', 'trust', 'fund']\n"
     ]
    }
   ],
   "source": [
    "print(subset.iloc[0,1])"
   ]
  },
  {
   "cell_type": "code",
   "execution_count": 24,
   "metadata": {},
   "outputs": [
    {
     "name": "stdout",
     "output_type": "stream",
     "text": [
      "['harry', 'potter', 'star', 'daniel', 'radcliffe', 'gain', 'access', 'reported', '£20', 'million', '41.1', 'million', 'fortune', 'turn', '18', 'monday', 'insists', 'money', 'cast', 'spell', 'daniel', 'radcliffe', 'harry', 'potter', 'harry', 'potter', 'order', 'phoenix', 'disappointment', 'gossip', 'columnist', 'around', 'world', 'young', 'actor', 'say', 'plan', 'fritter', 'cash', 'away', 'fast', 'car', 'drink', 'celebrity', 'party', 'plan', 'one', 'people', 'soon', 'turn', '18', 'suddenly', 'buy', 'massive', 'sport', 'car', 'collection', 'something', 'similar', 'told', 'australian', 'interviewer', 'earlier', 'month', 'think', 'particularly', 'extravagant', 'thing', 'like', 'buying', 'thing', 'cost', '10', 'pound', 'book', 'cd', 'dvd', '18', 'radcliffe', 'able', 'gamble', 'casino', 'buy', 'drink', 'pub', 'see', 'horror', 'film', 'hostel', 'part', 'ii', 'currently', 'six', 'place', 'number', 'one', 'movie', 'uk', 'box', 'office', 'chart', 'detail', 'mark', 'landmark', 'birthday', 'wrap', 'agent', 'publicist', 'comment', 'plan', 'definitely', 'sort', 'party', 'interview', 'hopefully', 'none', 'reading', 'radcliffe', 'earnings', 'first', 'five', 'potter', 'film', 'held', 'trust', 'fund', 'able', 'touch', 'despite', 'growing', 'fame', 'rich', 'actor', 'say', 'keeping', 'foot', 'firmly', 'ground', 'people', 'always', 'looking', 'say', \"'kid\", 'star', 'go', 'rail', 'told', 'reporter', 'last', 'month', 'try', 'hard', 'go', 'way', 'would', 'easy', 'latest', 'outing', 'boy', 'wizard', 'harry', 'potter', 'order', 'phoenix', 'breaking', 'record', 'side', 'atlantic', 'reprise', 'role', 'last', 'two', 'film', 'watch', 'i-reporter', 'give', 'review', 'potter', 'latest', '»', 'life', 'beyond', 'potter', 'however', 'londoner', 'filmed', 'tv', 'movie', 'called', 'boy', 'jack', 'author', 'rudyard', 'kipling', 'son', 'due', 'release', 'later', 'year', 'also', 'appear', 'december', 'boy', 'australian', 'film', 'four', 'boy', 'escape', 'orphanage', 'earlier', 'year', 'made', 'stage', 'debut', 'playing', 'tortured', 'teenager', 'peter', 'shaffer', 'equus', 'meanwhile', 'braced', 'even', 'closer', 'medium', 'scrutiny', 'legally', 'adult', 'think', 'going', 'sort', 'fair', 'game', 'told', 'reuters', 'e-mail', 'friend', 'copyright', '2007', 'reuters', 'right', 'reserved.this', 'material', 'may', 'published', 'broadcast', 'rewritten', 'redistributed']\n"
     ]
    }
   ],
   "source": [
    "print(subset.iloc[0,0])"
   ]
  },
  {
   "cell_type": "code",
   "execution_count": null,
   "metadata": {},
   "outputs": [],
   "source": []
  }
 ],
 "metadata": {
  "kernelspec": {
   "display_name": "Python 3.9.7 ('base')",
   "language": "python",
   "name": "python3"
  },
  "language_info": {
   "codemirror_mode": {
    "name": "ipython",
    "version": 3
   },
   "file_extension": ".py",
   "mimetype": "text/x-python",
   "name": "python",
   "nbconvert_exporter": "python",
   "pygments_lexer": "ipython3",
   "version": "3.9.7"
  },
  "orig_nbformat": 4,
  "vscode": {
   "interpreter": {
    "hash": "40d3a090f54c6569ab1632332b64b2c03c39dcf918b08424e98f38b5ae0af88f"
   }
  }
 },
 "nbformat": 4,
 "nbformat_minor": 2
}
