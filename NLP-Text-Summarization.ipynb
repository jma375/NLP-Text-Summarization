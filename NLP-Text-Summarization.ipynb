{
 "cells": [
  {
   "cell_type": "code",
   "execution_count": 1,
   "metadata": {},
   "outputs": [],
   "source": [
    "#James Alfano\n",
    "import pandas as pd\n",
    "import datasets\n",
    "import sys  \n",
    "import contractions\n",
    "import matplotlib.pyplot as plt\n",
    "import nltk\n",
    "from nltk.corpus import stopwords\n",
    "from nltk.tokenize import word_tokenize, sent_tokenize\n",
    "\n",
    "#Run these commands when running for first time\n",
    "#nltk.download('punkt')\n",
    "#nltk.download('stopwords')\n",
    "#!{sys.executable} -m pip install contractions"
   ]
  },
  {
   "cell_type": "code",
   "execution_count": 2,
   "metadata": {},
   "outputs": [
    {
     "name": "stderr",
     "output_type": "stream",
     "text": [
      "Found cached dataset cnn_dailymail (/Users/jamesalfano/.cache/huggingface/datasets/cnn_dailymail/3.0.0/3.0.0/1b3c71476f6d152c31c1730e83ccb08bcf23e348233f4fcc11e182248e6bf7de)\n",
      "100%|██████████| 3/3 [00:00<00:00, 43.18it/s]\n"
     ]
    }
   ],
   "source": [
    "## load the full dataset of 300k articles\n",
    "dataset = datasets.load_dataset(\"cnn_dailymail\", '3.0.0')"
   ]
  },
  {
   "cell_type": "code",
   "execution_count": 3,
   "metadata": {},
   "outputs": [
    {
     "data": {
      "text/plain": [
       "DatasetDict({\n",
       "    train: Dataset({\n",
       "        features: ['article', 'highlights', 'id'],\n",
       "        num_rows: 287113\n",
       "    })\n",
       "    validation: Dataset({\n",
       "        features: ['article', 'highlights', 'id'],\n",
       "        num_rows: 13368\n",
       "    })\n",
       "    test: Dataset({\n",
       "        features: ['article', 'highlights', 'id'],\n",
       "        num_rows: 11490\n",
       "    })\n",
       "})"
      ]
     },
     "execution_count": 3,
     "metadata": {},
     "output_type": "execute_result"
    }
   ],
   "source": [
    "dataset"
   ]
  },
  {
   "cell_type": "code",
   "execution_count": 4,
   "metadata": {},
   "outputs": [
    {
     "data": {
      "text/html": [
       "<div>\n",
       "<style scoped>\n",
       "    .dataframe tbody tr th:only-of-type {\n",
       "        vertical-align: middle;\n",
       "    }\n",
       "\n",
       "    .dataframe tbody tr th {\n",
       "        vertical-align: top;\n",
       "    }\n",
       "\n",
       "    .dataframe thead th {\n",
       "        text-align: right;\n",
       "    }\n",
       "</style>\n",
       "<table border=\"1\" class=\"dataframe\">\n",
       "  <thead>\n",
       "    <tr style=\"text-align: right;\">\n",
       "      <th></th>\n",
       "      <th>text</th>\n",
       "      <th>y</th>\n",
       "    </tr>\n",
       "  </thead>\n",
       "  <tbody>\n",
       "    <tr>\n",
       "      <th>0</th>\n",
       "      <td>LONDON, England (Reuters) -- Harry Potter star...</td>\n",
       "      <td>Harry Potter star Daniel Radcliffe gets £20M f...</td>\n",
       "    </tr>\n",
       "    <tr>\n",
       "      <th>1</th>\n",
       "      <td>Editor's note: In our Behind the Scenes series...</td>\n",
       "      <td>Mentally ill inmates in Miami are housed on th...</td>\n",
       "    </tr>\n",
       "    <tr>\n",
       "      <th>2</th>\n",
       "      <td>MINNEAPOLIS, Minnesota (CNN) -- Drivers who we...</td>\n",
       "      <td>NEW: \"I thought I was going to die,\" driver sa...</td>\n",
       "    </tr>\n",
       "    <tr>\n",
       "      <th>3</th>\n",
       "      <td>WASHINGTON (CNN) -- Doctors removed five small...</td>\n",
       "      <td>Five small polyps found during procedure; \"non...</td>\n",
       "    </tr>\n",
       "    <tr>\n",
       "      <th>4</th>\n",
       "      <td>(CNN)  -- The National Football League has ind...</td>\n",
       "      <td>NEW: NFL chief, Atlanta Falcons owner critical...</td>\n",
       "    </tr>\n",
       "    <tr>\n",
       "      <th>5</th>\n",
       "      <td>BAGHDAD, Iraq (CNN) -- Dressed in a Superman s...</td>\n",
       "      <td>Parents beam with pride, can't stop from smili...</td>\n",
       "    </tr>\n",
       "    <tr>\n",
       "      <th>6</th>\n",
       "      <td>BAGHDAD, Iraq (CNN) -- The women are too afrai...</td>\n",
       "      <td>Aid workers: Violence, increased cost of livin...</td>\n",
       "    </tr>\n",
       "    <tr>\n",
       "      <th>7</th>\n",
       "      <td>BOGOTA, Colombia (CNN) -- A key rebel commande...</td>\n",
       "      <td>Tomas Medina Caracas was a fugitive from a U.S...</td>\n",
       "    </tr>\n",
       "    <tr>\n",
       "      <th>8</th>\n",
       "      <td>WASHINGTON (CNN) -- White House press secretar...</td>\n",
       "      <td>President Bush says Tony Snow \"will battle can...</td>\n",
       "    </tr>\n",
       "    <tr>\n",
       "      <th>9</th>\n",
       "      <td>(CNN) -- Police and FBI agents are investigati...</td>\n",
       "      <td>Empty anti-tank weapon turns up in front of Ne...</td>\n",
       "    </tr>\n",
       "    <tr>\n",
       "      <th>10</th>\n",
       "      <td>WASHINGTON (CNN) -- As he awaits a crucial pro...</td>\n",
       "      <td>President Bush to address the Veterans of Fore...</td>\n",
       "    </tr>\n",
       "    <tr>\n",
       "      <th>11</th>\n",
       "      <td>LONDON, England (CNN) -- A chronology of bombi...</td>\n",
       "      <td>Two cars loaded with gasoline and nails found ...</td>\n",
       "    </tr>\n",
       "    <tr>\n",
       "      <th>12</th>\n",
       "      <td>BREMEN, Germany -- Carlos Alberto, who scored ...</td>\n",
       "      <td>Werder Bremen pay a club record $10.7 million ...</td>\n",
       "    </tr>\n",
       "    <tr>\n",
       "      <th>13</th>\n",
       "      <td>WASHINGTON (CNN) -- Vice President Dick Cheney...</td>\n",
       "      <td>President Bush will have a routine colonoscopy...</td>\n",
       "    </tr>\n",
       "    <tr>\n",
       "      <th>14</th>\n",
       "      <td>SAN FRANCISCO, California (CNN)  -- A magnitud...</td>\n",
       "      <td>2,000 customers without electricity, power com...</td>\n",
       "    </tr>\n",
       "  </tbody>\n",
       "</table>\n",
       "</div>"
      ],
      "text/plain": [
       "                                                 text  \\\n",
       "0   LONDON, England (Reuters) -- Harry Potter star...   \n",
       "1   Editor's note: In our Behind the Scenes series...   \n",
       "2   MINNEAPOLIS, Minnesota (CNN) -- Drivers who we...   \n",
       "3   WASHINGTON (CNN) -- Doctors removed five small...   \n",
       "4   (CNN)  -- The National Football League has ind...   \n",
       "5   BAGHDAD, Iraq (CNN) -- Dressed in a Superman s...   \n",
       "6   BAGHDAD, Iraq (CNN) -- The women are too afrai...   \n",
       "7   BOGOTA, Colombia (CNN) -- A key rebel commande...   \n",
       "8   WASHINGTON (CNN) -- White House press secretar...   \n",
       "9   (CNN) -- Police and FBI agents are investigati...   \n",
       "10  WASHINGTON (CNN) -- As he awaits a crucial pro...   \n",
       "11  LONDON, England (CNN) -- A chronology of bombi...   \n",
       "12  BREMEN, Germany -- Carlos Alberto, who scored ...   \n",
       "13  WASHINGTON (CNN) -- Vice President Dick Cheney...   \n",
       "14  SAN FRANCISCO, California (CNN)  -- A magnitud...   \n",
       "\n",
       "                                                    y  \n",
       "0   Harry Potter star Daniel Radcliffe gets £20M f...  \n",
       "1   Mentally ill inmates in Miami are housed on th...  \n",
       "2   NEW: \"I thought I was going to die,\" driver sa...  \n",
       "3   Five small polyps found during procedure; \"non...  \n",
       "4   NEW: NFL chief, Atlanta Falcons owner critical...  \n",
       "5   Parents beam with pride, can't stop from smili...  \n",
       "6   Aid workers: Violence, increased cost of livin...  \n",
       "7   Tomas Medina Caracas was a fugitive from a U.S...  \n",
       "8   President Bush says Tony Snow \"will battle can...  \n",
       "9   Empty anti-tank weapon turns up in front of Ne...  \n",
       "10  President Bush to address the Veterans of Fore...  \n",
       "11  Two cars loaded with gasoline and nails found ...  \n",
       "12  Werder Bremen pay a club record $10.7 million ...  \n",
       "13  President Bush will have a routine colonoscopy...  \n",
       "14  2,000 customers without electricity, power com...  "
      ]
     },
     "execution_count": 4,
     "metadata": {},
     "output_type": "execute_result"
    }
   ],
   "source": [
    "#Read in Training\n",
    "lst_dics = [dic for dic in dataset[\"train\"]]\n",
    "train = pd.DataFrame(lst_dics).rename(columns={\"article\":\"text\", \n",
    "      \"highlights\":\"y\"})[[\"text\",\"y\"]]\n",
    "train.head(15)"
   ]
  },
  {
   "cell_type": "code",
   "execution_count": 5,
   "metadata": {},
   "outputs": [
    {
     "data": {
      "text/html": [
       "<div>\n",
       "<style scoped>\n",
       "    .dataframe tbody tr th:only-of-type {\n",
       "        vertical-align: middle;\n",
       "    }\n",
       "\n",
       "    .dataframe tbody tr th {\n",
       "        vertical-align: top;\n",
       "    }\n",
       "\n",
       "    .dataframe thead th {\n",
       "        text-align: right;\n",
       "    }\n",
       "</style>\n",
       "<table border=\"1\" class=\"dataframe\">\n",
       "  <thead>\n",
       "    <tr style=\"text-align: right;\">\n",
       "      <th></th>\n",
       "      <th>text</th>\n",
       "      <th>y</th>\n",
       "    </tr>\n",
       "  </thead>\n",
       "  <tbody>\n",
       "    <tr>\n",
       "      <th>0</th>\n",
       "      <td>(CNN)The Palestinian Authority officially beca...</td>\n",
       "      <td>Membership gives the ICC jurisdiction over all...</td>\n",
       "    </tr>\n",
       "    <tr>\n",
       "      <th>1</th>\n",
       "      <td>(CNN)Never mind cats having nine lives. A stra...</td>\n",
       "      <td>Theia, a bully breed mix, was apparently hit b...</td>\n",
       "    </tr>\n",
       "    <tr>\n",
       "      <th>2</th>\n",
       "      <td>(CNN)If you've been following the news lately,...</td>\n",
       "      <td>Mohammad Javad Zarif has spent more time with ...</td>\n",
       "    </tr>\n",
       "    <tr>\n",
       "      <th>3</th>\n",
       "      <td>(CNN)Five Americans who were monitored for thr...</td>\n",
       "      <td>17 Americans were exposed to the Ebola virus w...</td>\n",
       "    </tr>\n",
       "    <tr>\n",
       "      <th>4</th>\n",
       "      <td>(CNN)A Duke student has admitted to hanging a ...</td>\n",
       "      <td>Student is no longer on Duke University campus...</td>\n",
       "    </tr>\n",
       "  </tbody>\n",
       "</table>\n",
       "</div>"
      ],
      "text/plain": [
       "                                                text  \\\n",
       "0  (CNN)The Palestinian Authority officially beca...   \n",
       "1  (CNN)Never mind cats having nine lives. A stra...   \n",
       "2  (CNN)If you've been following the news lately,...   \n",
       "3  (CNN)Five Americans who were monitored for thr...   \n",
       "4  (CNN)A Duke student has admitted to hanging a ...   \n",
       "\n",
       "                                                   y  \n",
       "0  Membership gives the ICC jurisdiction over all...  \n",
       "1  Theia, a bully breed mix, was apparently hit b...  \n",
       "2  Mohammad Javad Zarif has spent more time with ...  \n",
       "3  17 Americans were exposed to the Ebola virus w...  \n",
       "4  Student is no longer on Duke University campus...  "
      ]
     },
     "execution_count": 5,
     "metadata": {},
     "output_type": "execute_result"
    }
   ],
   "source": [
    "#Read in testing\n",
    "lst_dics = [dic for dic in dataset[\"test\"]]\n",
    "test = pd.DataFrame(lst_dics).rename(columns={\"article\":\"text\", \n",
    "      \"highlights\":\"y\"})[[\"text\",\"y\"]]\n",
    "test.head()"
   ]
  },
  {
   "cell_type": "code",
   "execution_count": 6,
   "metadata": {},
   "outputs": [
    {
     "data": {
      "text/html": [
       "<div>\n",
       "<style scoped>\n",
       "    .dataframe tbody tr th:only-of-type {\n",
       "        vertical-align: middle;\n",
       "    }\n",
       "\n",
       "    .dataframe tbody tr th {\n",
       "        vertical-align: top;\n",
       "    }\n",
       "\n",
       "    .dataframe thead th {\n",
       "        text-align: right;\n",
       "    }\n",
       "</style>\n",
       "<table border=\"1\" class=\"dataframe\">\n",
       "  <thead>\n",
       "    <tr style=\"text-align: right;\">\n",
       "      <th></th>\n",
       "      <th>text</th>\n",
       "      <th>y</th>\n",
       "    </tr>\n",
       "  </thead>\n",
       "  <tbody>\n",
       "    <tr>\n",
       "      <th>0</th>\n",
       "      <td>(CNN)Share, and your gift will be multiplied. ...</td>\n",
       "      <td>Zully Broussard decided to give a kidney to a ...</td>\n",
       "    </tr>\n",
       "    <tr>\n",
       "      <th>1</th>\n",
       "      <td>(CNN)On the 6th of April 1996, San Jose Clash ...</td>\n",
       "      <td>The 20th MLS season begins this weekend .\\nLea...</td>\n",
       "    </tr>\n",
       "    <tr>\n",
       "      <th>2</th>\n",
       "      <td>(CNN)French striker Bafetimbi Gomis, who has a...</td>\n",
       "      <td>Bafetimbi Gomis collapses within 10 minutes of...</td>\n",
       "    </tr>\n",
       "    <tr>\n",
       "      <th>3</th>\n",
       "      <td>(CNN)It was an act of frustration perhaps more...</td>\n",
       "      <td>Rory McIlroy throws club into water at WGC Cad...</td>\n",
       "    </tr>\n",
       "    <tr>\n",
       "      <th>4</th>\n",
       "      <td>(CNN)A Pennsylvania community is pulling toget...</td>\n",
       "      <td>Cayman Naib, 13, hasn't been heard from since ...</td>\n",
       "    </tr>\n",
       "  </tbody>\n",
       "</table>\n",
       "</div>"
      ],
      "text/plain": [
       "                                                text  \\\n",
       "0  (CNN)Share, and your gift will be multiplied. ...   \n",
       "1  (CNN)On the 6th of April 1996, San Jose Clash ...   \n",
       "2  (CNN)French striker Bafetimbi Gomis, who has a...   \n",
       "3  (CNN)It was an act of frustration perhaps more...   \n",
       "4  (CNN)A Pennsylvania community is pulling toget...   \n",
       "\n",
       "                                                   y  \n",
       "0  Zully Broussard decided to give a kidney to a ...  \n",
       "1  The 20th MLS season begins this weekend .\\nLea...  \n",
       "2  Bafetimbi Gomis collapses within 10 minutes of...  \n",
       "3  Rory McIlroy throws club into water at WGC Cad...  \n",
       "4  Cayman Naib, 13, hasn't been heard from since ...  "
      ]
     },
     "execution_count": 6,
     "metadata": {},
     "output_type": "execute_result"
    }
   ],
   "source": [
    "#Read in Validation\n",
    "lst_dics = [dic for dic in dataset[\"validation\"]]\n",
    "validation = pd.DataFrame(lst_dics).rename(columns={\"article\":\"text\", \n",
    "      \"highlights\":\"y\"})[[\"text\",\"y\"]]\n",
    "validation.head()"
   ]
  },
  {
   "cell_type": "code",
   "execution_count": 7,
   "metadata": {},
   "outputs": [
    {
     "name": "stdout",
     "output_type": "stream",
     "text": [
      "(287113, 2)\n",
      "(11490, 2)\n",
      "(13368, 2)\n"
     ]
    }
   ],
   "source": [
    "print(train.shape)\n",
    "print(test.shape)\n",
    "print(validation.shape)\n"
   ]
  },
  {
   "cell_type": "code",
   "execution_count": 8,
   "metadata": {},
   "outputs": [
    {
     "name": "stdout",
     "output_type": "stream",
     "text": [
      "LONDON, England (Reuters) -- Harry Potter star Daniel Radcliffe gains access to a reported £20 million ($41.1 million) fortune as he turns 18 on Monday, but he insists the money won't cast a spell on him. Daniel Radcliffe as Harry Potter in \"Harry Potter and the Order of the Phoenix\" To the disappointment of gossip columnists around the world, the young actor says he has no plans to fritter his cash away on fast cars, drink and celebrity parties. \"I don't plan to be one of those people who, as soon as they turn 18, suddenly buy themselves a massive sports car collection or something similar,\" he told an Australian interviewer earlier this month. \"I don't think I'll be particularly extravagant. \"The things I like buying are things that cost about 10 pounds -- books and CDs and DVDs.\" At 18, Radcliffe will be able to gamble in a casino, buy a drink in a pub or see the horror film \"Hostel: Part II,\" currently six places below his number one movie on the UK box office chart. Details of how he'll mark his landmark birthday are under wraps. His agent and publicist had no comment on his plans. \"I'll definitely have some sort of party,\" he said in an interview. \"Hopefully none of you will be reading about it.\" Radcliffe's earnings from the first five Potter films have been held in a trust fund which he has not been able to touch. Despite his growing fame and riches, the actor says he is keeping his feet firmly on the ground. \"People are always looking to say 'kid star goes off the rails,'\" he told reporters last month. \"But I try very hard not to go that way because it would be too easy for them.\" His latest outing as the boy wizard in \"Harry Potter and the Order of the Phoenix\" is breaking records on both sides of the Atlantic and he will reprise the role in the last two films.  Watch I-Reporter give her review of Potter's latest » . There is life beyond Potter, however. The Londoner has filmed a TV movie called \"My Boy Jack,\" about author Rudyard Kipling and his son, due for release later this year. He will also appear in \"December Boys,\" an Australian film about four boys who escape an orphanage. Earlier this year, he made his stage debut playing a tortured teenager in Peter Shaffer's \"Equus.\" Meanwhile, he is braced for even closer media scrutiny now that he's legally an adult: \"I just think I'm going to be more sort of fair game,\" he told Reuters. E-mail to a friend . Copyright 2007 Reuters. All rights reserved.This material may not be published, broadcast, rewritten, or redistributed.\n"
     ]
    }
   ],
   "source": [
    "print(train.iloc[0,0])"
   ]
  },
  {
   "cell_type": "code",
   "execution_count": 9,
   "metadata": {},
   "outputs": [
    {
     "name": "stdout",
     "output_type": "stream",
     "text": [
      "Harry Potter star Daniel Radcliffe gets £20M fortune as he turns 18 Monday .\n",
      "Young actor says he has no plans to fritter his cash away .\n",
      "Radcliffe's earnings from first five Potter films have been held in trust fund .\n"
     ]
    }
   ],
   "source": [
    "print(train.iloc[0,1])"
   ]
  },
  {
   "cell_type": "markdown",
   "metadata": {},
   "source": [
    "## Preprocessing "
   ]
  },
  {
   "cell_type": "code",
   "execution_count": 10,
   "metadata": {},
   "outputs": [
    {
     "data": {
      "text/html": [
       "<div>\n",
       "<style scoped>\n",
       "    .dataframe tbody tr th:only-of-type {\n",
       "        vertical-align: middle;\n",
       "    }\n",
       "\n",
       "    .dataframe tbody tr th {\n",
       "        vertical-align: top;\n",
       "    }\n",
       "\n",
       "    .dataframe thead th {\n",
       "        text-align: right;\n",
       "    }\n",
       "</style>\n",
       "<table border=\"1\" class=\"dataframe\">\n",
       "  <thead>\n",
       "    <tr style=\"text-align: right;\">\n",
       "      <th></th>\n",
       "      <th>text</th>\n",
       "      <th>y</th>\n",
       "    </tr>\n",
       "  </thead>\n",
       "  <tbody>\n",
       "    <tr>\n",
       "      <th>0</th>\n",
       "      <td>LONDON, England (Reuters) -- Harry Potter star...</td>\n",
       "      <td>Harry Potter star Daniel Radcliffe gets £20M f...</td>\n",
       "    </tr>\n",
       "    <tr>\n",
       "      <th>1</th>\n",
       "      <td>Editor's note: In our Behind the Scenes series...</td>\n",
       "      <td>Mentally ill inmates in Miami are housed on th...</td>\n",
       "    </tr>\n",
       "    <tr>\n",
       "      <th>2</th>\n",
       "      <td>MINNEAPOLIS, Minnesota (CNN) -- Drivers who we...</td>\n",
       "      <td>NEW: \"I thought I was going to die,\" driver sa...</td>\n",
       "    </tr>\n",
       "    <tr>\n",
       "      <th>3</th>\n",
       "      <td>WASHINGTON (CNN) -- Doctors removed five small...</td>\n",
       "      <td>Five small polyps found during procedure; \"non...</td>\n",
       "    </tr>\n",
       "    <tr>\n",
       "      <th>4</th>\n",
       "      <td>(CNN)  -- The National Football League has ind...</td>\n",
       "      <td>NEW: NFL chief, Atlanta Falcons owner critical...</td>\n",
       "    </tr>\n",
       "  </tbody>\n",
       "</table>\n",
       "</div>"
      ],
      "text/plain": [
       "                                                text  \\\n",
       "0  LONDON, England (Reuters) -- Harry Potter star...   \n",
       "1  Editor's note: In our Behind the Scenes series...   \n",
       "2  MINNEAPOLIS, Minnesota (CNN) -- Drivers who we...   \n",
       "3  WASHINGTON (CNN) -- Doctors removed five small...   \n",
       "4  (CNN)  -- The National Football League has ind...   \n",
       "\n",
       "                                                   y  \n",
       "0  Harry Potter star Daniel Radcliffe gets £20M f...  \n",
       "1  Mentally ill inmates in Miami are housed on th...  \n",
       "2  NEW: \"I thought I was going to die,\" driver sa...  \n",
       "3  Five small polyps found during procedure; \"non...  \n",
       "4  NEW: NFL chief, Atlanta Falcons owner critical...  "
      ]
     },
     "execution_count": 10,
     "metadata": {},
     "output_type": "execute_result"
    }
   ],
   "source": [
    "#take a subset of the training data\n",
    "subset = train.iloc[0:50,0:50]\n",
    "subset.shape\n",
    "subset.head()"
   ]
  },
  {
   "cell_type": "code",
   "execution_count": 11,
   "metadata": {},
   "outputs": [],
   "source": [
    "#Function to plot word frequencies \n",
    "def wrd_freq(df):\n",
    "    # use explode to expand the lists into separate rows\n",
    "    dfe = df.text.explode().to_frame().reset_index(drop=True)\n",
    "    # groupby the values in the column, get the count and sort\n",
    "    dfg = dfe.groupby('text').text.count() \\\n",
    "                                .reset_index(name='count') \\\n",
    "                                .sort_values(['count'], ascending=False) \\\n",
    "                                .head(20).reset_index(drop=True)\n",
    "    dfg.plot.bar(x='text')"
   ]
  },
  {
   "cell_type": "code",
   "execution_count": 12,
   "metadata": {},
   "outputs": [],
   "source": [
    "#Expand contractions \n",
    "#e.g. they're -> they are\n",
    "def expand_contractions(df):\n",
    "    for i in range(len(df)):\n",
    "        df.iloc[i,0] = contractions.fix(df.iloc[i,0])\n",
    "        df.iloc[i,1] = contractions.fix(df.iloc[i,1])"
   ]
  },
  {
   "cell_type": "code",
   "execution_count": 13,
   "metadata": {},
   "outputs": [],
   "source": [
    "#Lower Case Function\n",
    "def lower_case_text(df):\n",
    "    df[\"text\"] = df[\"text\"].str.lower()\n",
    "    df[\"y\"] = df[\"y\"].str.lower()"
   ]
  },
  {
   "cell_type": "code",
   "execution_count": 14,
   "metadata": {},
   "outputs": [],
   "source": [
    "#Function to tokenize df \n",
    "def token(df):\n",
    "    for i in range(len(df)):\n",
    "        df.iloc[i,0] = nltk.word_tokenize(df.iloc[i,0])\n",
    "        df.iloc[i,1] = nltk.word_tokenize(df.iloc[i,1])"
   ]
  },
  {
   "cell_type": "code",
   "execution_count": 15,
   "metadata": {},
   "outputs": [],
   "source": [
    "#Removing stop words/punctuation\n",
    "#e.g. 'a', 'an', 'not', 'do', 'over', 'themselves', \"--\", \"''\", \":\", and \".\"\n",
    "def rmv_stop_wrds(df):\n",
    "    stop_words = set(stopwords.words('english'))\n",
    "    char_rmv = [\"'\",\",\",\"``\",\"`\",\"-\", \"--\",\"''\",\":\",\".\"]\n",
    "    stop_words.update(char_rmv) #Adding extra stopwords\n",
    "    for i in range(len(df)):\n",
    "        df.iloc[i,0] = [w for w in df.iloc[i,0] if not w in stop_words] \n",
    "        df.iloc[i,1] = [w for w in df.iloc[i,1] if not w in stop_words] "
   ]
  },
  {
   "cell_type": "code",
   "execution_count": 16,
   "metadata": {},
   "outputs": [
    {
     "data": {
      "image/png": "[encoded data removed]",
      "text/plain": [
       "<Figure size 432x288 with 1 Axes>"
      ]
     },
     "metadata": {
      "needs_background": "light"
     },
     "output_type": "display_data"
    }
   ],
   "source": [
    "#Plot word Freq before removing stopwords \n",
    "expand_contractions(subset)\n",
    "lower_case_text(subset)\n",
    "token(subset)\n",
    "wrd_freq(subset)"
   ]
  },
  {
   "cell_type": "code",
   "execution_count": 17,
   "metadata": {},
   "outputs": [
    {
     "data": {
      "text/html": [
       "<div>\n",
       "<style scoped>\n",
       "    .dataframe tbody tr th:only-of-type {\n",
       "        vertical-align: middle;\n",
       "    }\n",
       "\n",
       "    .dataframe tbody tr th {\n",
       "        vertical-align: top;\n",
       "    }\n",
       "\n",
       "    .dataframe thead th {\n",
       "        text-align: right;\n",
       "    }\n",
       "</style>\n",
       "<table border=\"1\" class=\"dataframe\">\n",
       "  <thead>\n",
       "    <tr style=\"text-align: right;\">\n",
       "      <th></th>\n",
       "      <th>text</th>\n",
       "      <th>y</th>\n",
       "    </tr>\n",
       "  </thead>\n",
       "  <tbody>\n",
       "    <tr>\n",
       "      <th>0</th>\n",
       "      <td>[london, ,, england, (, reuters, ), --, harry,...</td>\n",
       "      <td>[harry, potter, star, daniel, radcliffe, gets,...</td>\n",
       "    </tr>\n",
       "    <tr>\n",
       "      <th>1</th>\n",
       "      <td>[editor, 's, note, :, in, our, behind, the, sc...</td>\n",
       "      <td>[mentally, ill, inmates, in, miami, are, house...</td>\n",
       "    </tr>\n",
       "    <tr>\n",
       "      <th>2</th>\n",
       "      <td>[minneapolis, ,, minnesota, (, cnn, ), --, dri...</td>\n",
       "      <td>[new, :, ``, i, thought, i, was, going, to, di...</td>\n",
       "    </tr>\n",
       "    <tr>\n",
       "      <th>3</th>\n",
       "      <td>[washington, (, cnn, ), --, doctors, removed, ...</td>\n",
       "      <td>[five, small, polyps, found, during, procedure...</td>\n",
       "    </tr>\n",
       "    <tr>\n",
       "      <th>4</th>\n",
       "      <td>[(, cnn, ), --, the, national, football, leagu...</td>\n",
       "      <td>[new, :, nfl, chief, ,, atlanta, falcons, owne...</td>\n",
       "    </tr>\n",
       "  </tbody>\n",
       "</table>\n",
       "</div>"
      ],
      "text/plain": [
       "                                                text  \\\n",
       "0  [london, ,, england, (, reuters, ), --, harry,...   \n",
       "1  [editor, 's, note, :, in, our, behind, the, sc...   \n",
       "2  [minneapolis, ,, minnesota, (, cnn, ), --, dri...   \n",
       "3  [washington, (, cnn, ), --, doctors, removed, ...   \n",
       "4  [(, cnn, ), --, the, national, football, leagu...   \n",
       "\n",
       "                                                   y  \n",
       "0  [harry, potter, star, daniel, radcliffe, gets,...  \n",
       "1  [mentally, ill, inmates, in, miami, are, house...  \n",
       "2  [new, :, ``, i, thought, i, was, going, to, di...  \n",
       "3  [five, small, polyps, found, during, procedure...  \n",
       "4  [new, :, nfl, chief, ,, atlanta, falcons, owne...  "
      ]
     },
     "execution_count": 17,
     "metadata": {},
     "output_type": "execute_result"
    }
   ],
   "source": [
    "subset.head()"
   ]
  },
  {
   "cell_type": "code",
   "execution_count": 18,
   "metadata": {},
   "outputs": [
    {
     "data": {
      "image/png": "[encoded data removed]",
      "text/plain": [
       "<Figure size 432x288 with 1 Axes>"
      ]
     },
     "metadata": {
      "needs_background": "light"
     },
     "output_type": "display_data"
    }
   ],
   "source": [
    "#Plot word Freq after removing stopwords\n",
    "rmv_stop_wrds(subset)\n",
    "wrd_freq(subset)"
   ]
  },
  {
   "cell_type": "code",
   "execution_count": 19,
   "metadata": {},
   "outputs": [
    {
     "data": {
      "text/html": [
       "<div>\n",
       "<style scoped>\n",
       "    .dataframe tbody tr th:only-of-type {\n",
       "        vertical-align: middle;\n",
       "    }\n",
       "\n",
       "    .dataframe tbody tr th {\n",
       "        vertical-align: top;\n",
       "    }\n",
       "\n",
       "    .dataframe thead th {\n",
       "        text-align: right;\n",
       "    }\n",
       "</style>\n",
       "<table border=\"1\" class=\"dataframe\">\n",
       "  <thead>\n",
       "    <tr style=\"text-align: right;\">\n",
       "      <th></th>\n",
       "      <th>text</th>\n",
       "      <th>y</th>\n",
       "    </tr>\n",
       "  </thead>\n",
       "  <tbody>\n",
       "    <tr>\n",
       "      <th>0</th>\n",
       "      <td>[london, england, (, reuters, ), harry, potter...</td>\n",
       "      <td>[harry, potter, star, daniel, radcliffe, gets,...</td>\n",
       "    </tr>\n",
       "    <tr>\n",
       "      <th>1</th>\n",
       "      <td>[editor, 's, note, behind, scenes, series, cnn...</td>\n",
       "      <td>[mentally, ill, inmates, miami, housed, forgot...</td>\n",
       "    </tr>\n",
       "    <tr>\n",
       "      <th>2</th>\n",
       "      <td>[minneapolis, minnesota, (, cnn, ), drivers, m...</td>\n",
       "      <td>[new, thought, going, die, driver, says, man, ...</td>\n",
       "    </tr>\n",
       "    <tr>\n",
       "      <th>3</th>\n",
       "      <td>[washington, (, cnn, ), doctors, removed, five...</td>\n",
       "      <td>[five, small, polyps, found, procedure, ;, non...</td>\n",
       "    </tr>\n",
       "    <tr>\n",
       "      <th>4</th>\n",
       "      <td>[(, cnn, ), national, football, league, indefi...</td>\n",
       "      <td>[new, nfl, chief, atlanta, falcons, owner, cri...</td>\n",
       "    </tr>\n",
       "  </tbody>\n",
       "</table>\n",
       "</div>"
      ],
      "text/plain": [
       "                                                text  \\\n",
       "0  [london, england, (, reuters, ), harry, potter...   \n",
       "1  [editor, 's, note, behind, scenes, series, cnn...   \n",
       "2  [minneapolis, minnesota, (, cnn, ), drivers, m...   \n",
       "3  [washington, (, cnn, ), doctors, removed, five...   \n",
       "4  [(, cnn, ), national, football, league, indefi...   \n",
       "\n",
       "                                                   y  \n",
       "0  [harry, potter, star, daniel, radcliffe, gets,...  \n",
       "1  [mentally, ill, inmates, miami, housed, forgot...  \n",
       "2  [new, thought, going, die, driver, says, man, ...  \n",
       "3  [five, small, polyps, found, procedure, ;, non...  \n",
       "4  [new, nfl, chief, atlanta, falcons, owner, cri...  "
      ]
     },
     "execution_count": 19,
     "metadata": {},
     "output_type": "execute_result"
    }
   ],
   "source": [
    "subset.head()"
   ]
  },
  {
   "cell_type": "code",
   "execution_count": 20,
   "metadata": {},
   "outputs": [
    {
     "name": "stdout",
     "output_type": "stream",
     "text": [
      "['harry', 'potter', 'star', 'daniel', 'radcliffe', 'gets', '£20m', 'fortune', 'turns', '18', 'monday', 'young', 'actor', 'says', 'plans', 'fritter', 'cash', 'away', 'radcliffe', \"'s\", 'earnings', 'first', 'five', 'potter', 'films', 'held', 'trust', 'fund']\n"
     ]
    }
   ],
   "source": [
    "print(subset.iloc[0,1])"
   ]
  },
  {
   "cell_type": "code",
   "execution_count": 21,
   "metadata": {},
   "outputs": [
    {
     "name": "stdout",
     "output_type": "stream",
     "text": [
      "['london', 'england', '(', 'reuters', ')', 'harry', 'potter', 'star', 'daniel', 'radcliffe', 'gains', 'access', 'reported', '£20', 'million', '(', '$', '41.1', 'million', ')', 'fortune', 'turns', '18', 'monday', 'insists', 'money', 'cast', 'spell', 'daniel', 'radcliffe', 'harry', 'potter', 'harry', 'potter', 'order', 'phoenix', 'disappointment', 'gossip', 'columnists', 'around', 'world', 'young', 'actor', 'says', 'plans', 'fritter', 'cash', 'away', 'fast', 'cars', 'drink', 'celebrity', 'parties', 'plan', 'one', 'people', 'soon', 'turn', '18', 'suddenly', 'buy', 'massive', 'sports', 'car', 'collection', 'something', 'similar', 'told', 'australian', 'interviewer', 'earlier', 'month', 'think', 'particularly', 'extravagant', 'things', 'like', 'buying', 'things', 'cost', '10', 'pounds', 'books', 'cds', 'dvds', '18', 'radcliffe', 'able', 'gamble', 'casino', 'buy', 'drink', 'pub', 'see', 'horror', 'film', 'hostel', 'part', 'ii', 'currently', 'six', 'places', 'number', 'one', 'movie', 'uk', 'box', 'office', 'chart', 'details', 'mark', 'landmark', 'birthday', 'wraps', 'agent', 'publicist', 'comment', 'plans', 'definitely', 'sort', 'party', 'said', 'interview', 'hopefully', 'none', 'reading', 'radcliffe', \"'s\", 'earnings', 'first', 'five', 'potter', 'films', 'held', 'trust', 'fund', 'able', 'touch', 'despite', 'growing', 'fame', 'riches', 'actor', 'says', 'keeping', 'feet', 'firmly', 'ground', 'people', 'always', 'looking', 'say', \"'kid\", 'star', 'goes', 'rails', 'told', 'reporters', 'last', 'month', 'try', 'hard', 'go', 'way', 'would', 'easy', 'latest', 'outing', 'boy', 'wizard', 'harry', 'potter', 'order', 'phoenix', 'breaking', 'records', 'sides', 'atlantic', 'reprise', 'role', 'last', 'two', 'films', 'watch', 'i-reporter', 'give', 'review', 'potter', \"'s\", 'latest', '»', 'life', 'beyond', 'potter', 'however', 'londoner', 'filmed', 'tv', 'movie', 'called', 'boy', 'jack', 'author', 'rudyard', 'kipling', 'son', 'due', 'release', 'later', 'year', 'also', 'appear', 'december', 'boys', 'australian', 'film', 'four', 'boys', 'escape', 'orphanage', 'earlier', 'year', 'made', 'stage', 'debut', 'playing', 'tortured', 'teenager', 'peter', 'shaffer', \"'s\", 'equus', 'meanwhile', 'braced', 'even', 'closer', 'media', 'scrutiny', 'legally', 'adult', 'think', 'going', 'sort', 'fair', 'game', 'told', 'reuters', 'e-mail', 'friend', 'copyright', '2007', 'reuters', 'rights', 'reserved.this', 'material', 'may', 'published', 'broadcast', 'rewritten', 'redistributed']\n"
     ]
    }
   ],
   "source": [
    "print(subset.iloc[0,0])"
   ]
  },
  {
   "cell_type": "code",
   "execution_count": null,
   "metadata": {},
   "outputs": [],
   "source": []
  }
 ],
 "metadata": {
  "kernelspec": {
   "display_name": "Python 3.9.7 ('base')",
   "language": "python",
   "name": "python3"
  },
  "language_info": {
   "codemirror_mode": {
    "name": "ipython",
    "version": 3
   },
   "file_extension": ".py",
   "mimetype": "text/x-python",
   "name": "python",
   "nbconvert_exporter": "python",
   "pygments_lexer": "ipython3",
   "version": "3.9.7"
  },
  "orig_nbformat": 4,
  "vscode": {
   "interpreter": {
    "hash": "40d3a090f54c6569ab1632332b64b2c03c39dcf918b08424e98f38b5ae0af88f"
   }
  }
 },
 "nbformat": 4,
 "nbformat_minor": 2
}
